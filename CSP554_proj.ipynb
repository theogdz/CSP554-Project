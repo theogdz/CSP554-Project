{
  "nbformat": 4,
  "nbformat_minor": 0,
  "metadata": {
    "kernelspec": {
      "display_name": "Python 3",
      "language": "python",
      "name": "python3"
    },
    "language_info": {
      "codemirror_mode": {
        "name": "ipython",
        "version": 3
      },
      "file_extension": ".py",
      "mimetype": "text/x-python",
      "name": "python",
      "nbconvert_exporter": "python",
      "pygments_lexer": "ipython3",
      "version": "3.7.0"
    },
    "colab": {
      "name": "CSP554_proj.ipynb",
      "provenance": [],
      "collapsed_sections": []
    }
  },
  "cells": [
    {
      "cell_type": "code",
      "metadata": {
        "colab": {
          "base_uri": "https://localhost:8080/"
        },
        "id": "UA-VgiWYPsbC",
        "outputId": "89b9095c-5325-448d-9cf7-d79a39aa1cc2"
      },
      "source": [
        "!pip install tweet-preprocessor\n",
        "!pip install yfinance"
      ],
      "execution_count": 15,
      "outputs": [
        {
          "output_type": "stream",
          "text": [
            "Requirement already satisfied: tweet-preprocessor in /usr/local/lib/python3.7/dist-packages (0.6.0)\n",
            "Collecting yfinance\n",
            "  Downloading https://files.pythonhosted.org/packages/a7/ee/315752b9ef281ba83c62aa7ec2e2074f85223da6e7e74efb4d3e11c0f510/yfinance-0.1.59.tar.gz\n",
            "Requirement already satisfied: pandas>=0.24 in /usr/local/lib/python3.7/dist-packages (from yfinance) (1.1.5)\n",
            "Requirement already satisfied: numpy>=1.15 in /usr/local/lib/python3.7/dist-packages (from yfinance) (1.19.5)\n",
            "Requirement already satisfied: requests>=2.20 in /usr/local/lib/python3.7/dist-packages (from yfinance) (2.23.0)\n",
            "Requirement already satisfied: multitasking>=0.0.7 in /usr/local/lib/python3.7/dist-packages (from yfinance) (0.0.9)\n",
            "Collecting lxml>=4.5.1\n",
            "\u001b[?25l  Downloading https://files.pythonhosted.org/packages/cf/4d/6537313bf58fe22b508f08cf3eb86b29b6f9edf68e00454224539421073b/lxml-4.6.3-cp37-cp37m-manylinux1_x86_64.whl (5.5MB)\n",
            "\u001b[K     |████████████████████████████████| 5.5MB 9.3MB/s \n",
            "\u001b[?25hRequirement already satisfied: python-dateutil>=2.7.3 in /usr/local/lib/python3.7/dist-packages (from pandas>=0.24->yfinance) (2.8.1)\n",
            "Requirement already satisfied: pytz>=2017.2 in /usr/local/lib/python3.7/dist-packages (from pandas>=0.24->yfinance) (2018.9)\n",
            "Requirement already satisfied: chardet<4,>=3.0.2 in /usr/local/lib/python3.7/dist-packages (from requests>=2.20->yfinance) (3.0.4)\n",
            "Requirement already satisfied: urllib3!=1.25.0,!=1.25.1,<1.26,>=1.21.1 in /usr/local/lib/python3.7/dist-packages (from requests>=2.20->yfinance) (1.24.3)\n",
            "Requirement already satisfied: idna<3,>=2.5 in /usr/local/lib/python3.7/dist-packages (from requests>=2.20->yfinance) (2.10)\n",
            "Requirement already satisfied: certifi>=2017.4.17 in /usr/local/lib/python3.7/dist-packages (from requests>=2.20->yfinance) (2020.12.5)\n",
            "Requirement already satisfied: six>=1.5 in /usr/local/lib/python3.7/dist-packages (from python-dateutil>=2.7.3->pandas>=0.24->yfinance) (1.15.0)\n",
            "Building wheels for collected packages: yfinance\n",
            "  Building wheel for yfinance (setup.py) ... \u001b[?25l\u001b[?25hdone\n",
            "  Created wheel for yfinance: filename=yfinance-0.1.59-py2.py3-none-any.whl size=23442 sha256=f7c125569d043323c203eaaa366272c2c0f8f55244cdad2c8f63a88c9675ed26\n",
            "  Stored in directory: /root/.cache/pip/wheels/f8/2a/0f/4b5a86e1d52e451757eb6bc17fd899629f0925c777741b6d04\n",
            "Successfully built yfinance\n",
            "Installing collected packages: lxml, yfinance\n",
            "  Found existing installation: lxml 4.2.6\n",
            "    Uninstalling lxml-4.2.6:\n",
            "      Successfully uninstalled lxml-4.2.6\n",
            "Successfully installed lxml-4.6.3 yfinance-0.1.59\n"
          ],
          "name": "stdout"
        }
      ]
    },
    {
      "cell_type": "code",
      "metadata": {
        "id": "Q3LziMezIBUs"
      },
      "source": [
        "import pandas as pd\n",
        "import matplotlib.pyplot as polt\n",
        "from textblob import TextBlob\n",
        "from datetime import datetime, timedelta\n",
        "import requests\n",
        "import pandas as pd\n",
        "import preprocessor as p\n",
        "import yfinance as yf"
      ],
      "execution_count": 16,
      "outputs": []
    },
    {
      "cell_type": "code",
      "metadata": {
        "id": "lsxZZvZvBEBg"
      },
      "source": [
        "ticker = 'GME'\n",
        "company = 'Gamestop'"
      ],
      "execution_count": 5,
      "outputs": []
    },
    {
      "cell_type": "code",
      "metadata": {
        "id": "TnEB3b3F0wR2"
      },
      "source": [
        "# read bearer token for authentication\n",
        "with open('bearer.txt') as fp: #The bearer.txt file is on the github\n",
        "    BEARER_TOKEN = fp.read()\n",
        "# setup the API request\n",
        "endpoint = 'https://api.twitter.com/2/tweets/search/recent'\n",
        "headers = {'authorization': f'Bearer {BEARER_TOKEN}'}\n",
        "params = {\n",
        "    'query': '('+ ticker+') (lang:en)',\n",
        "    'max_results': '100',\n",
        "    'tweet.fields': 'created_at,lang'\n",
        "}\n",
        "\n",
        "dtformat = '%Y-%m-%dT%H:%M:%SZ'  # the date format string required by twitter\n",
        "\n",
        "# we use this function to subtract 60 mins from our datetime string\n",
        "def time_travel(now, mins):\n",
        "    now = datetime.strptime(now, dtformat)\n",
        "    back_in_time = now - timedelta(minutes=mins)\n",
        "    return back_in_time.strftime(dtformat)\n",
        "\n",
        "def get_data(tweet):\n",
        "    data = {\n",
        "        'id': tweet['id'],\n",
        "        'created_at': tweet['created_at'],\n",
        "        'text': tweet['text']\n",
        "    }\n",
        "    return data\n",
        "    \n",
        "now = datetime.now() - timedelta(seconds=20) # get the current datetime\n",
        "last_week = now - timedelta(days=1)  # datetime one day ago = the finish line\n",
        "now = now.strftime(dtformat)  # convert now datetime to format for API\n",
        "\n",
        "df = pd.DataFrame()  # initialize dataframe to store tweets\n",
        "while True:\n",
        "    if datetime.strptime(now, dtformat) < last_week:\n",
        "        break\n",
        "    pre60 = time_travel(now, 60)  # get 60 minutes before 'now'\n",
        "    # assign from and to datetime parameters for the API\n",
        "    params['start_time'] = pre60\n",
        "    params['end_time'] = now\n",
        "    response = requests.get(endpoint,\n",
        "                            params=params,\n",
        "                            headers=headers)  # send the request\n",
        "    now = pre60  # move the window 60 minutes earlier\n",
        "    # iteratively append our tweet data to our dataframe\n",
        "    for tweet in response.json()['data']:\n",
        "        row = get_data(tweet)\n",
        "        df = df.append(row, ignore_index=True)"
      ],
      "execution_count": null,
      "outputs": []
    },
    {
      "cell_type": "code",
      "metadata": {
        "id": "nTySHDZPOImq",
        "colab": {
          "base_uri": "https://localhost:8080/",
          "height": 185
        },
        "outputId": "a633fc91-6b74-4c07-8b2d-d6aaf6bddaa7"
      },
      "source": [
        "# Save csv file here\n",
        "filename = company + \".csv\"\n",
        "df.to_csv(filename,index = False)"
      ],
      "execution_count": 6,
      "outputs": [
        {
          "output_type": "error",
          "ename": "NameError",
          "evalue": "ignored",
          "traceback": [
            "\u001b[0;31m---------------------------------------------------------------------------\u001b[0m",
            "\u001b[0;31mNameError\u001b[0m                                 Traceback (most recent call last)",
            "\u001b[0;32m<ipython-input-6-7d351c1b22e5>\u001b[0m in \u001b[0;36m<module>\u001b[0;34m()\u001b[0m\n\u001b[1;32m      1\u001b[0m \u001b[0mfilename\u001b[0m \u001b[0;34m=\u001b[0m \u001b[0mcompany\u001b[0m \u001b[0;34m+\u001b[0m \u001b[0;34m\".csv\"\u001b[0m\u001b[0;34m\u001b[0m\u001b[0;34m\u001b[0m\u001b[0m\n\u001b[0;32m----> 2\u001b[0;31m \u001b[0mdf\u001b[0m\u001b[0;34m.\u001b[0m\u001b[0mto_csv\u001b[0m\u001b[0;34m(\u001b[0m\u001b[0mfilename\u001b[0m\u001b[0;34m,\u001b[0m\u001b[0mindex\u001b[0m \u001b[0;34m=\u001b[0m \u001b[0;32mFalse\u001b[0m\u001b[0;34m)\u001b[0m\u001b[0;34m\u001b[0m\u001b[0;34m\u001b[0m\u001b[0m\n\u001b[0m",
            "\u001b[0;31mNameError\u001b[0m: name 'df' is not defined"
          ]
        }
      ]
    },
    {
      "cell_type": "code",
      "metadata": {
        "colab": {
          "base_uri": "https://localhost:8080/",
          "height": 167
        },
        "id": "zpwfl9GrM41P",
        "outputId": "7173ce4c-d850-448c-f61b-89c8ed3f0f82"
      },
      "source": [
        "df.head()"
      ],
      "execution_count": 3,
      "outputs": [
        {
          "output_type": "error",
          "ename": "NameError",
          "evalue": "ignored",
          "traceback": [
            "\u001b[0;31m---------------------------------------------------------------------------\u001b[0m",
            "\u001b[0;31mNameError\u001b[0m                                 Traceback (most recent call last)",
            "\u001b[0;32m<ipython-input-3-c42a15b2c7cf>\u001b[0m in \u001b[0;36m<module>\u001b[0;34m()\u001b[0m\n\u001b[0;32m----> 1\u001b[0;31m \u001b[0mdf\u001b[0m\u001b[0;34m.\u001b[0m\u001b[0mhead\u001b[0m\u001b[0;34m(\u001b[0m\u001b[0;34m)\u001b[0m\u001b[0;34m\u001b[0m\u001b[0;34m\u001b[0m\u001b[0m\n\u001b[0m",
            "\u001b[0;31mNameError\u001b[0m: name 'df' is not defined"
          ]
        }
      ]
    },
    {
      "cell_type": "code",
      "metadata": {
        "id": "whtGWXOdX1Ti"
      },
      "source": [
        "# Load csv file here\n",
        "filename = company + \".csv\"\n",
        "df = pd.read_csv(filename)"
      ],
      "execution_count": 7,
      "outputs": []
    },
    {
      "cell_type": "code",
      "metadata": {
        "id": "UeCTqYtoIBU1"
      },
      "source": [
        "sentiment = []\n",
        "scores = []\n",
        "for tweet in df.text:\n",
        "    # tweet = p.clean(tweet) #removes emojis etc\n",
        "    analysis = TextBlob(tweet)\n",
        "    score = analysis.sentiment.polarity \n",
        "    scores.append(score)\n",
        "    if score > 0:\n",
        "        sentiment.append(\"positive\")\n",
        "    elif score == 0:\n",
        "        sentiment.append(\"neutral\")\n",
        "    else:\n",
        "        sentiment.append(\"negative\")\n",
        "df[\"sentiment\"] = sentiment\n",
        "df[\"score\"] = scores"
      ],
      "execution_count": 8,
      "outputs": []
    },
    {
      "cell_type": "code",
      "metadata": {
        "colab": {
          "base_uri": "https://localhost:8080/"
        },
        "id": "FbjpqdjwTuAh",
        "outputId": "d19f2db7-37da-437b-92e6-1e159d908537"
      },
      "source": [
        "pos = 100 * len(df[df['sentiment'].str.contains('positive')]) / len(df)\n",
        "neg = 100 * len(df[df['sentiment'].str.contains('negative')]) / len(df)\n",
        "neu = 100 * len(df[df['sentiment'].str.contains('neutral')]) / len(df)\n",
        "print(\"Positive tweet {} %\".format(pos))\n",
        "print(\"Negative tweets {} %\".format(neg))\n",
        "print(\"Neutral tweets {} % \".format(neu))"
      ],
      "execution_count": 9,
      "outputs": [
        {
          "output_type": "stream",
          "text": [
            "Positive tweet 41.40950792326939 %\n",
            "Negative tweets 13.261050875729774 %\n",
            "Neutral tweets 45.32944120100083 % \n"
          ],
          "name": "stdout"
        }
      ]
    },
    {
      "cell_type": "code",
      "metadata": {
        "id": "eZTZ7Rv4IBU3"
      },
      "source": [
        "df = df.sort_values(by=['score'])"
      ],
      "execution_count": 12,
      "outputs": []
    },
    {
      "cell_type": "code",
      "metadata": {
        "id": "8sBkDRqLXjIx"
      },
      "source": [
        "dis = df.filter([\"text\",\"score\"], axis=1)"
      ],
      "execution_count": 13,
      "outputs": []
    },
    {
      "cell_type": "code",
      "metadata": {
        "colab": {
          "base_uri": "https://localhost:8080/",
          "height": 199
        },
        "id": "LsHcPjd4XLK4",
        "outputId": "18048609-e6af-4920-9b2b-1c9e3c5b86bd"
      },
      "source": [
        "dis.iloc[:5]"
      ],
      "execution_count": 14,
      "outputs": [
        {
          "output_type": "execute_result",
          "data": {
            "text/html": [
              "<div>\n",
              "<style scoped>\n",
              "    .dataframe tbody tr th:only-of-type {\n",
              "        vertical-align: middle;\n",
              "    }\n",
              "\n",
              "    .dataframe tbody tr th {\n",
              "        vertical-align: top;\n",
              "    }\n",
              "\n",
              "    .dataframe thead th {\n",
              "        text-align: right;\n",
              "    }\n",
              "</style>\n",
              "<table border=\"1\" class=\"dataframe\">\n",
              "  <thead>\n",
              "    <tr style=\"text-align: right;\">\n",
              "      <th></th>\n",
              "      <th>text</th>\n",
              "      <th>score</th>\n",
              "    </tr>\n",
              "  </thead>\n",
              "  <tbody>\n",
              "    <tr>\n",
              "      <th>145</th>\n",
              "      <td>The media will do one of two things regarding ...</td>\n",
              "      <td>-1.0000</td>\n",
              "    </tr>\n",
              "    <tr>\n",
              "      <th>1854</th>\n",
              "      <td>@StockMktMedia @markets You know who DIDN'T sh...</td>\n",
              "      <td>-0.9375</td>\n",
              "    </tr>\n",
              "    <tr>\n",
              "      <th>723</th>\n",
              "      <td>RT @madaznfootballr: Trader 'madazmoney' trade...</td>\n",
              "      <td>-0.8000</td>\n",
              "    </tr>\n",
              "    <tr>\n",
              "      <th>713</th>\n",
              "      <td>RT @madaznfootballr: Trader 'madazmoney' trade...</td>\n",
              "      <td>-0.8000</td>\n",
              "    </tr>\n",
              "    <tr>\n",
              "      <th>1776</th>\n",
              "      <td>RT @madaznfootballr: Trader 'madazmoney' trade...</td>\n",
              "      <td>-0.8000</td>\n",
              "    </tr>\n",
              "  </tbody>\n",
              "</table>\n",
              "</div>"
            ],
            "text/plain": [
              "                                                   text   score\n",
              "145   The media will do one of two things regarding ... -1.0000\n",
              "1854  @StockMktMedia @markets You know who DIDN'T sh... -0.9375\n",
              "723   RT @madaznfootballr: Trader 'madazmoney' trade... -0.8000\n",
              "713   RT @madaznfootballr: Trader 'madazmoney' trade... -0.8000\n",
              "1776  RT @madaznfootballr: Trader 'madazmoney' trade... -0.8000"
            ]
          },
          "metadata": {
            "tags": []
          },
          "execution_count": 14
        }
      ]
    },
    {
      "cell_type": "markdown",
      "metadata": {
        "id": "3u84-V883nZ9"
      },
      "source": [
        "Not sure how to work with yahoo finance yet. Below does not work."
      ]
    },
    {
      "cell_type": "code",
      "metadata": {
        "id": "tStU3JjD27yd"
      },
      "source": [
        "\n",
        "gme = yf.Ticker(\"GME\")\n",
        "gme_stock = gme.history(\n",
        "    start=(data['created_at'].min()).strftime('%Y-%m-%d'),\n",
        "    end=data['created_at'].max().strftime('%Y-%m-%d'),\n",
        "    interval='60m'\n",
        ").reset_index()"
      ],
      "execution_count": null,
      "outputs": []
    }
  ]
}