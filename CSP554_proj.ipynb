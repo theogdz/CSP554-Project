{
  "nbformat": 4,
  "nbformat_minor": 0,
  "metadata": {
    "kernelspec": {
      "display_name": "Python 3",
      "language": "python",
      "name": "python3"
    },
    "language_info": {
      "codemirror_mode": {
        "name": "ipython",
        "version": 3
      },
      "file_extension": ".py",
      "mimetype": "text/x-python",
      "name": "python",
      "nbconvert_exporter": "python",
      "pygments_lexer": "ipython3",
      "version": "3.7.0"
    },
    "colab": {
      "name": "CSP554_proj.ipynb",
      "provenance": [],
      "collapsed_sections": []
    }
  },
  "cells": [
    {
      "cell_type": "code",
      "metadata": {
        "colab": {
          "base_uri": "https://localhost:8080/"
        },
        "id": "UA-VgiWYPsbC",
        "outputId": "e720e1c3-218e-4a84-9863-3b59b8ecf404"
      },
      "source": [
        "!pip install tweet-preprocessor"
      ],
      "execution_count": 39,
      "outputs": [
        {
          "output_type": "stream",
          "text": [
            "Requirement already satisfied: tweet-preprocessor in /usr/local/lib/python3.7/dist-packages (0.6.0)\n"
          ],
          "name": "stdout"
        }
      ]
    },
    {
      "cell_type": "code",
      "metadata": {
        "id": "Q3LziMezIBUs"
      },
      "source": [
        "import pandas as pd\n",
        "import matplotlib.pyplot as polt\n",
        "from textblob import TextBlob\n",
        "from datetime import datetime, timedelta\n",
        "import requests\n",
        "import pandas as pd\n",
        "import preprocessor as p"
      ],
      "execution_count": 40,
      "outputs": []
    },
    {
      "cell_type": "code",
      "metadata": {
        "id": "lsxZZvZvBEBg"
      },
      "source": [
        "# read bearer token for authentication\n",
        "with open('bearer.txt') as fp:\n",
        "    BEARER_TOKEN = fp.read()\n",
        "\n",
        "ticker = 'GME'\n",
        "company = 'Gamestop'\n",
        "# setup the API request\n",
        "endpoint = 'https://api.twitter.com/2/tweets/search/recent'\n",
        "headers = {'authorization': f'Bearer {BEARER_TOKEN}'}\n",
        "params = {\n",
        "    'query': '('+ ticker+') (lang:en)',\n",
        "    'max_results': '100',\n",
        "    'tweet.fields': 'created_at,lang'\n",
        "}\n",
        "\n",
        "dtformat = '%Y-%m-%dT%H:%M:%SZ'  # the date format string required by twitter\n",
        "\n",
        "# we use this function to subtract 60 mins from our datetime string\n",
        "def time_travel(now, mins):\n",
        "    now = datetime.strptime(now, dtformat)\n",
        "    back_in_time = now - timedelta(minutes=mins)\n",
        "    return back_in_time.strftime(dtformat)\n",
        "\n",
        "def get_data(tweet):\n",
        "    data = {\n",
        "        'id': tweet['id'],\n",
        "        'created_at': tweet['created_at'],\n",
        "        'text': tweet['text']\n",
        "    }\n",
        "    return data\n",
        "    \n",
        "now = datetime.now() - timedelta(seconds=20) # get the current datetime\n",
        "last_week = now - timedelta(days=1)  # datetime one day ago = the finish line\n",
        "now = now.strftime(dtformat)  # convert now datetime to format for API\n",
        "\n",
        "df = pd.DataFrame()  # initialize dataframe to store tweets\n",
        "while True:\n",
        "    if datetime.strptime(now, dtformat) < last_week:\n",
        "        break\n",
        "    pre60 = time_travel(now, 60)  # get 60 minutes before 'now'\n",
        "    # assign from and to datetime parameters for the API\n",
        "    params['start_time'] = pre60\n",
        "    params['end_time'] = now\n",
        "    response = requests.get(endpoint,\n",
        "                            params=params,\n",
        "                            headers=headers)  # send the request\n",
        "    now = pre60  # move the window 60 minutes earlier\n",
        "    # iteratively append our tweet data to our dataframe\n",
        "    for tweet in response.json()['data']:\n",
        "        row = get_data(tweet)\n",
        "        df = df.append(row, ignore_index=True)"
      ],
      "execution_count": 41,
      "outputs": []
    },
    {
      "cell_type": "code",
      "metadata": {
        "colab": {
          "base_uri": "https://localhost:8080/",
          "height": 199
        },
        "id": "zpwfl9GrM41P",
        "outputId": "aba208b2-334e-4cae-8050-718f603d11ac"
      },
      "source": [
        "df.head()"
      ],
      "execution_count": 42,
      "outputs": [
        {
          "output_type": "execute_result",
          "data": {
            "text/html": [
              "<div>\n",
              "<style scoped>\n",
              "    .dataframe tbody tr th:only-of-type {\n",
              "        vertical-align: middle;\n",
              "    }\n",
              "\n",
              "    .dataframe tbody tr th {\n",
              "        vertical-align: top;\n",
              "    }\n",
              "\n",
              "    .dataframe thead th {\n",
              "        text-align: right;\n",
              "    }\n",
              "</style>\n",
              "<table border=\"1\" class=\"dataframe\">\n",
              "  <thead>\n",
              "    <tr style=\"text-align: right;\">\n",
              "      <th></th>\n",
              "      <th>created_at</th>\n",
              "      <th>id</th>\n",
              "      <th>text</th>\n",
              "    </tr>\n",
              "  </thead>\n",
              "  <tbody>\n",
              "    <tr>\n",
              "      <th>0</th>\n",
              "      <td>2021-04-13T03:31:00.000Z</td>\n",
              "      <td>1381812133495717889</td>\n",
              "      <td>RT @equijohn: $BRSE new streaming Partner \\nht...</td>\n",
              "    </tr>\n",
              "    <tr>\n",
              "      <th>1</th>\n",
              "      <td>2021-04-13T03:30:43.000Z</td>\n",
              "      <td>1381812065409589250</td>\n",
              "      <td>RT @weaponizedgamma: LIKE IF YOU ARE NOT FUCKI...</td>\n",
              "    </tr>\n",
              "    <tr>\n",
              "      <th>2</th>\n",
              "      <td>2021-04-13T03:30:33.000Z</td>\n",
              "      <td>1381812020815622150</td>\n",
              "      <td>@thedesertwolfe $gme six degrees of separation.</td>\n",
              "    </tr>\n",
              "    <tr>\n",
              "      <th>3</th>\n",
              "      <td>2021-04-13T03:30:22.000Z</td>\n",
              "      <td>1381811975609446404</td>\n",
              "      <td>@HesterPeirce Why don’t you guys get off your ...</td>\n",
              "    </tr>\n",
              "    <tr>\n",
              "      <th>4</th>\n",
              "      <td>2021-04-13T03:30:22.000Z</td>\n",
              "      <td>1381811974540042240</td>\n",
              "      <td>RT @NEVERBOW: @RobinhoodApp when will $coin be...</td>\n",
              "    </tr>\n",
              "  </tbody>\n",
              "</table>\n",
              "</div>"
            ],
            "text/plain": [
              "                 created_at  ...                                               text\n",
              "0  2021-04-13T03:31:00.000Z  ...  RT @equijohn: $BRSE new streaming Partner \\nht...\n",
              "1  2021-04-13T03:30:43.000Z  ...  RT @weaponizedgamma: LIKE IF YOU ARE NOT FUCKI...\n",
              "2  2021-04-13T03:30:33.000Z  ...    @thedesertwolfe $gme six degrees of separation.\n",
              "3  2021-04-13T03:30:22.000Z  ...  @HesterPeirce Why don’t you guys get off your ...\n",
              "4  2021-04-13T03:30:22.000Z  ...  RT @NEVERBOW: @RobinhoodApp when will $coin be...\n",
              "\n",
              "[5 rows x 3 columns]"
            ]
          },
          "metadata": {
            "tags": []
          },
          "execution_count": 42
        }
      ]
    },
    {
      "cell_type": "code",
      "metadata": {
        "id": "nTySHDZPOImq"
      },
      "source": [
        "filename = company + \".csv\"\n",
        "df.to_csv(filename,index = False)"
      ],
      "execution_count": 43,
      "outputs": []
    },
    {
      "cell_type": "code",
      "metadata": {
        "id": "whtGWXOdX1Ti"
      },
      "source": [
        "df = pd.read_csv(filename)"
      ],
      "execution_count": 70,
      "outputs": []
    },
    {
      "cell_type": "code",
      "metadata": {
        "id": "UeCTqYtoIBU1"
      },
      "source": [
        "sentiment = []\n",
        "scores = []\n",
        "for tweet in df.text:\n",
        "    tweet = p.clean(tweet)\n",
        "    analysis = TextBlob(tweet)\n",
        "    score = analysis.sentiment.polarity \n",
        "    scores.append(score)\n",
        "    if score > 0:\n",
        "        structured_tweet['sentiment'] = 'positive'\n",
        "        sentiment.append(\"positive\")\n",
        "    elif score == 0:\n",
        "        sentiment.append(\"neutral\")\n",
        "    else:\n",
        "        sentiment.append(\"negative\")\n",
        "df[\"sentiment\"] = sentiment\n",
        "df[\"score\"] = scores"
      ],
      "execution_count": 89,
      "outputs": []
    },
    {
      "cell_type": "code",
      "metadata": {
        "colab": {
          "base_uri": "https://localhost:8080/"
        },
        "id": "FbjpqdjwTuAh",
        "outputId": "e20dc471-b337-4975-8497-5eef98a09fa9"
      },
      "source": [
        "pos = 100 * len(df[df['sentiment'].str.contains('positive')]) / len(df)\n",
        "neg = 100 * len(df[df['sentiment'].str.contains('negative')]) / len(df)\n",
        "neu = 100 * len(df[df['sentiment'].str.contains('neutral')]) / len(df)\n",
        "print(\"Positive tweet {} %\".format(pos))\n",
        "print(\"Negative tweets {} %\".format(neg))\n",
        "print(\"Neutral tweets {} % \".format(neu))"
      ],
      "execution_count": 90,
      "outputs": [
        {
          "output_type": "stream",
          "text": [
            "Positive tweet 42.46861924686193 %\n",
            "Negative tweets 16.359832635983263 %\n",
            "Neutral tweets 41.17154811715481 % \n"
          ],
          "name": "stdout"
        }
      ]
    },
    {
      "cell_type": "code",
      "metadata": {
        "id": "eZTZ7Rv4IBU3"
      },
      "source": [
        "df = df.sort_values(by=['score'])"
      ],
      "execution_count": 78,
      "outputs": []
    },
    {
      "cell_type": "code",
      "metadata": {
        "id": "8sBkDRqLXjIx"
      },
      "source": [
        "dis = df.filter([\"text\",\"score\"], axis=1)"
      ],
      "execution_count": 79,
      "outputs": []
    },
    {
      "cell_type": "code",
      "metadata": {
        "colab": {
          "base_uri": "https://localhost:8080/",
          "height": 199
        },
        "id": "LsHcPjd4XLK4",
        "outputId": "e423cabd-9f93-4ebc-e714-fcc8f5790397"
      },
      "source": [
        "dis.iloc[:5]"
      ],
      "execution_count": 83,
      "outputs": [
        {
          "output_type": "execute_result",
          "data": {
            "text/html": [
              "<div>\n",
              "<style scoped>\n",
              "    .dataframe tbody tr th:only-of-type {\n",
              "        vertical-align: middle;\n",
              "    }\n",
              "\n",
              "    .dataframe tbody tr th {\n",
              "        vertical-align: top;\n",
              "    }\n",
              "\n",
              "    .dataframe thead th {\n",
              "        text-align: right;\n",
              "    }\n",
              "</style>\n",
              "<table border=\"1\" class=\"dataframe\">\n",
              "  <thead>\n",
              "    <tr style=\"text-align: right;\">\n",
              "      <th></th>\n",
              "      <th>text</th>\n",
              "      <th>score</th>\n",
              "    </tr>\n",
              "  </thead>\n",
              "  <tbody>\n",
              "    <tr>\n",
              "      <th>1202</th>\n",
              "      <td>YOU HEAR THAT HEDGIES??? WE ARE FUCKING MASOCH...</td>\n",
              "      <td>-1.00000</td>\n",
              "    </tr>\n",
              "    <tr>\n",
              "      <th>481</th>\n",
              "      <td>RT @TalatiTapan: @ChrisRandone I dont know but...</td>\n",
              "      <td>-1.00000</td>\n",
              "    </tr>\n",
              "    <tr>\n",
              "      <th>1077</th>\n",
              "      <td>Lets fucking goooo!!!!! #GameStop $GME</td>\n",
              "      <td>-1.00000</td>\n",
              "    </tr>\n",
              "    <tr>\n",
              "      <th>618</th>\n",
              "      <td>RT @madaznfootballr: Trader 'madazmoney' trade...</td>\n",
              "      <td>-0.80000</td>\n",
              "    </tr>\n",
              "    <tr>\n",
              "      <th>67</th>\n",
              "      <td>RT @PappaApe: 😳 Game Over,Done, Out Of Here, s...</td>\n",
              "      <td>-0.78125</td>\n",
              "    </tr>\n",
              "  </tbody>\n",
              "</table>\n",
              "</div>"
            ],
            "text/plain": [
              "                                                   text    score\n",
              "1202  YOU HEAR THAT HEDGIES??? WE ARE FUCKING MASOCH... -1.00000\n",
              "481   RT @TalatiTapan: @ChrisRandone I dont know but... -1.00000\n",
              "1077             Lets fucking goooo!!!!! #GameStop $GME -1.00000\n",
              "618   RT @madaznfootballr: Trader 'madazmoney' trade... -0.80000\n",
              "67    RT @PappaApe: 😳 Game Over,Done, Out Of Here, s... -0.78125"
            ]
          },
          "metadata": {
            "tags": []
          },
          "execution_count": 83
        }
      ]
    }
  ]
}